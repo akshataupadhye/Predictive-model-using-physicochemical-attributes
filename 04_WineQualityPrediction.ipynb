{
 "cells": [
  {
   "cell_type": "markdown",
   "metadata": {},
   "source": [
    "## Wine quality prediction"
   ]
  },
  {
   "cell_type": "markdown",
   "metadata": {},
   "source": [
    "This script is used to prdict the quality of white wine dataset"
   ]
  },
  {
   "cell_type": "code",
   "execution_count": 1,
   "metadata": {},
   "outputs": [],
   "source": [
    "#Importing the libraries\n",
    "import pandas as pd\n",
    "import matplotlib.pyplot as plt\n",
    "from sklearn.model_selection import train_test_split\n",
    "from sklearn.metrics import accuracy_score\n",
    "from sklearn import preprocessing\n",
    "from sklearn.model_selection import train_test_split\n",
    "from sklearn.preprocessing import StandardScaler\n",
    "from sklearn.svm import SVC\n",
    "import warnings\n",
    "warnings.filterwarnings('ignore')"
   ]
  },
  {
   "cell_type": "markdown",
   "metadata": {},
   "source": [
    "### Helper Functions"
   ]
  },
  {
   "cell_type": "code",
   "execution_count": 2,
   "metadata": {},
   "outputs": [],
   "source": [
    "#Function to read data\n",
    "def read_data(file_path):\n",
    "    data = pd.read_csv(file_path, delimiter=';', header=0)\n",
    "    data.columns = ['fixed_acidity','volatile_acidity','citric_acid','residual_sugar','chlorides',\\\n",
    "                    'free_sulfur_dioxide','total_sulfur_dioxide','density','pH','sulphates','alcohol','quality']\n",
    "    return data\n",
    "\n",
    "#Function to remove duplicates\n",
    "def remove_duplicates(data_frame):\n",
    "    if data_frame.duplicated().sum()>0:\n",
    "        data_frame.drop_duplicates(inplace=True)\n",
    "        return data_frame\n",
    "    else:\n",
    "        return data_frame    \n",
    "\n",
    "#Remove outliers\n",
    "def remove_outliers(data_frame):\n",
    "    stat_values = data_frame.quality.describe()\n",
    "    IQR = stat_values['75%'] - stat_values['25%']\n",
    "    higher = stat_values['75%'] + 1.5 * IQR\n",
    "    lower = stat_values['25%'] - 1.5 * IQR\n",
    "    data_frame = data_frame[data_frame['quality']> lower]\n",
    "    data_frame = data_frame[data_frame['quality']< higher]\n",
    "    return data_frame\n",
    " \n",
    "# Encoding the data\n",
    "def data_encoding(data_frame_column_to_encode, bins, labels):\n",
    "    data_frame_column_to_encode = pd.cut(data_frame_column_to_encode, bins = bins, labels = labels)\n",
    "    label_quality = preprocessing.LabelEncoder()\n",
    "    data_frame_column_to_encode = label_quality.fit_transform(data_frame_column_to_encode)\n",
    "    return data_frame_column_to_encode\n",
    "\n",
    "# Splitting the data for train and test\n",
    "def splitting_data(data_frame):\n",
    "    X = data_frame.drop(data_frame.columns[-1], inplace = False, axis = 1)\n",
    "    y = data_frame[data_frame.columns[-1]]\n",
    "    X_train, X_test, y_train, y_test = train_test_split(\n",
    "    X, y, test_size=0.2, random_state=42)\n",
    "    return X_train, X_test, y_train, y_test\n",
    "\n",
    "#Standardizing the data\n",
    "def std_data(X_train, X_test):\n",
    "    sc = StandardScaler()\n",
    "    X_train = sc.fit_transform(X_train)\n",
    "    X_test = sc.fit_transform(X_test)\n",
    "    return X_train, X_test\n",
    "    \n",
    "#Learning the best model\n",
    "def wine_quality_predictor(X_train, X_test, y_train, y_test):\n",
    "    svc = SVC(C= 1.4, gamma= 0.1, kernel= 'rbf')\n",
    "    svc.fit(X_train, y_train)\n",
    "    quality_pred = svc.predict(X_test)\n",
    "    accuracy = accuracy_score(y_test, quality_pred)\n",
    "    print('The accuracy score of the prediction is: '+str(accuracy))\n",
    "    return svc\n",
    "\n",
    "def save_results(model,data_frame,file_path):\n",
    "    X = data_frame.drop(data_frame.columns[-1], inplace = False, axis = 1)\n",
    "    model_predictions = model.predict(X)\n",
    "    model_predictions = list(model_predictions)\n",
    "    for i in range(len(model_predictions)):\n",
    "        if model_predictions[i] == 1:\n",
    "            model_predictions[i] = 'good'\n",
    "        else:\n",
    "            model_predictions[i] = 'bad'\n",
    "    data_frame['predicted_quality'] = model_predictions\n",
    "    data_frame.to_csv(file_path)\n",
    "    print(\"\\nThe file is saved!\")\n",
    "    "
   ]
  },
  {
   "cell_type": "code",
   "execution_count": 3,
   "metadata": {},
   "outputs": [
    {
     "name": "stdout",
     "output_type": "stream",
     "text": [
      "The accuracy score of the prediction is: 0.835742444152431\n",
      "\n",
      "The file is saved!\n"
     ]
    }
   ],
   "source": [
    "file_path = r\"C:\\data\\winequality-white.csv\"\n",
    "\n",
    "#Load the dataset as a pandas dataframe\n",
    "wine_data = read_data(file_path)\n",
    "\n",
    "# Eliminate duplicate records\n",
    "wine_data = remove_duplicates(wine_data)\n",
    "\n",
    "# Remove the outliers\n",
    "wine_data = remove_outliers(wine_data)\n",
    "\n",
    "# Encoding the variable 'quality'\n",
    "wine_data['quality'] = data_encoding(wine_data['quality'],(2,6,8), ['bad', 'good'] )\n",
    "\n",
    "# Train-Test Split\n",
    "X_train, X_test, y_train, y_test = splitting_data(wine_data)\n",
    "\n",
    "#Scaling the data\n",
    "X_train, X_test = std_data(X_train, X_test)\n",
    "\n",
    "# Getting the predictions\n",
    "svc = wine_quality_predictor(X_train, X_test, y_train, y_test)\n",
    "\n",
    "#path to save the results\n",
    "save_path = r\"C:\\data\\whitewinequality-predictions.csv\"\n",
    "\n",
    "#Saving the predictions\n",
    "save_results(svc,wine_data,save_path)"
   ]
  },
  {
   "cell_type": "code",
   "execution_count": null,
   "metadata": {},
   "outputs": [],
   "source": []
  }
 ],
 "metadata": {
  "kernelspec": {
   "display_name": "Python 3",
   "language": "python",
   "name": "python3"
  },
  "language_info": {
   "codemirror_mode": {
    "name": "ipython",
    "version": 3
   },
   "file_extension": ".py",
   "mimetype": "text/x-python",
   "name": "python",
   "nbconvert_exporter": "python",
   "pygments_lexer": "ipython3",
   "version": "3.8.5"
  }
 },
 "nbformat": 4,
 "nbformat_minor": 2
}
