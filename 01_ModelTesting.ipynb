{
 "cells": [
  {
   "cell_type": "markdown",
   "metadata": {},
   "source": [
    "## Testing ML models for Wine quality prediction"
   ]
  },
  {
   "cell_type": "markdown",
   "metadata": {},
   "source": [
    "This script is used to test various models for data analysis on the white wine dataset with visualization "
   ]
  },
  {
   "cell_type": "code",
   "execution_count": 1,
   "metadata": {},
   "outputs": [],
   "source": [
    "#Importing the libraries\n",
    "import pandas as pd\n",
    "import matplotlib.pyplot as plt\n",
    "from sklearn.model_selection import train_test_split\n",
    "from sklearn.linear_model import LinearRegression\n",
    "from sklearn.metrics import accuracy_score\n",
    "from sklearn import preprocessing\n",
    "from sklearn.model_selection import train_test_split\n",
    "from sklearn.preprocessing import StandardScaler\n",
    "from sklearn.svm import SVC\n",
    "from sklearn.linear_model import SGDClassifier\n",
    "from sklearn.ensemble import RandomForestClassifier\n",
    "from sklearn.tree import DecisionTreeClassifier\n",
    "from sklearn.neighbors import KNeighborsClassifier\n",
    "from sklearn.ensemble import AdaBoostClassifier\n",
    "from sklearn.linear_model import LogisticRegression\n",
    "from sklearn.model_selection import cross_val_score\n",
    "from sklearn.model_selection import KFold\n",
    "import warnings\n",
    "warnings.filterwarnings('ignore')"
   ]
  },
  {
   "cell_type": "markdown",
   "metadata": {},
   "source": [
    "### Helper Functions"
   ]
  },
  {
   "cell_type": "code",
   "execution_count": 2,
   "metadata": {},
   "outputs": [],
   "source": [
    "#Function to read data\n",
    "def read_data(file_path):\n",
    "    data = pd.read_csv(file_path, delimiter=';', header=0)\n",
    "    data.columns = ['fixed_acidity','volatile_acidity','citric_acid','residual_sugar','chlorides',\\\n",
    "                    'free_sulfur_dioxide','total_sulfur_dioxide','density','pH','sulphates','alcohol','quality']\n",
    "    #data.drop(['residual_sugar','free_sulfur_dioxide','sulphates'], axis=1, inplace=True)\n",
    "    return data\n",
    "\n",
    "#Function to remove duplicates\n",
    "def remove_duplicates(data_frame):\n",
    "    if data_frame.duplicated().sum()>0:\n",
    "        data_frame.drop_duplicates(inplace=True)\n",
    "        return data_frame\n",
    "    else:\n",
    "        return data_frame    \n",
    "\n",
    "#Remove outliers\n",
    "def remove_outliers(data_frame):\n",
    "    stat_values = data_frame.quality.describe()\n",
    "    IQR = stat_values['75%'] - stat_values['25%']\n",
    "    higher = stat_values['75%'] + 1.5 * IQR\n",
    "    lower = stat_values['25%'] - 1.5 * IQR\n",
    "    data_frame = data_frame[data_frame['quality']> lower]\n",
    "    data_frame = data_frame[data_frame['quality']< higher]\n",
    "    return data_frame\n",
    " \n",
    "# Encoding the data\n",
    "def data_encoding(data_frame_column_to_encode, bins, labels):\n",
    "    data_frame_column_to_encode = pd.cut(data_frame_column_to_encode, bins = bins, labels = labels)\n",
    "    label_quality = preprocessing.LabelEncoder()\n",
    "    data_frame_column_to_encode = label_quality.fit_transform(data_frame_column_to_encode)\n",
    "    #print(data_frame_column_to_encode.value_counts())\n",
    "    #sn.countplot(data_frame_column_to_encode)\n",
    "    #plt.show()\n",
    "    return data_frame_column_to_encode\n",
    "\n",
    "# Splitting the data for train and test\n",
    "def splitting_data(data_frame):\n",
    "    X = data_frame.drop(data_frame.columns[-1], inplace = False, axis = 1)\n",
    "    y = data_frame[data_frame.columns[-1]]\n",
    "    X_train, X_test, y_train, y_test = train_test_split(\n",
    "    X, y, test_size=0.2, random_state=42)\n",
    "    return X_train, X_test, y_train, y_test\n",
    "\n",
    "#Standardizing the data\n",
    "def std_data(X_train, X_test):\n",
    "    sc = StandardScaler()\n",
    "    X_train = sc.fit_transform(X_train)\n",
    "    X_test = sc.fit_transform(X_test)\n",
    "    return X_train, X_test\n",
    "    \n",
    "\n",
    "#test performance of various models\n",
    "def model_testing(models):\n",
    "    # evaluate each model in turn\n",
    "    results = []\n",
    "    names = []\n",
    "    scoring = 'accuracy'\n",
    "    for name, model in models:\n",
    "        kfold = KFold(n_splits=10)\n",
    "        cv_results = cross_val_score(model, X_train, y_train, cv=kfold, scoring=scoring)\n",
    "        results.append(cv_results)\n",
    "        names.append(name)\n",
    "        msg = \"%s: %f (%f)\" % (name, cv_results.mean(), cv_results.std())\n",
    "        print(msg)\n",
    "    return names, results\n",
    "\n",
    "#visualize the performance of various models\n",
    "def plot_model_results(model_names, performance_scores):\n",
    "    # boxplot algorithm comparison\n",
    "    fig = plt.figure(figsize = (14, 10))\n",
    "    fig.suptitle('Model Performance Evaluation')\n",
    "    ax = fig.add_subplot(111)\n",
    "    plt.boxplot(performance_scores)\n",
    "    ax.set_xticklabels(model_names)\n",
    "    plt.show()\n",
    "    \n",
    "    \n",
    "        \n",
    "    "
   ]
  },
  {
   "cell_type": "code",
   "execution_count": 3,
   "metadata": {},
   "outputs": [
    {
     "name": "stdout",
     "output_type": "stream",
     "text": [
      "SVC: 0.835409 (0.028608)\n",
      "RandomForest: 0.833756 (0.028446)\n",
      "DT: 0.773960 (0.020731)\n",
      "KNN: 0.829810 (0.024016)\n",
      "AdaBoost: 0.819965 (0.027079)\n",
      "LogisticRegression: 0.828186 (0.025981)\n"
     ]
    },
    {
     "data": {
      "image/png": "[encoded data removed]",
      "text/plain": [
       "<Figure size 1008x720 with 1 Axes>"
      ]
     },
     "metadata": {
      "needs_background": "light"
     },
     "output_type": "display_data"
    }
   ],
   "source": [
    "file_path = r\"C:\\data\\winequality-white.csv\"\n",
    "\n",
    "#Load the dataset as a pandas dataframe\n",
    "wine_data = read_data(file_path)\n",
    "\n",
    "# Eliminate duplicate records\n",
    "wine_data = remove_duplicates(wine_data)\n",
    "\n",
    "# Remove the outliers\n",
    "wine_data = remove_outliers(wine_data)\n",
    "\n",
    "# Encoding the variable 'quality'\n",
    "wine_data['quality'] = data_encoding(wine_data['quality'],(2,6,8), ['bad', 'good'] )\n",
    "\n",
    "# Train-Test Split\n",
    "X_train, X_test, y_train, y_test = splitting_data(wine_data)\n",
    "\n",
    "#Scaling the data\n",
    "X_train, X_test = std_data(X_train, X_test)\n",
    "\n",
    "# Testing Various models\n",
    "models = []\n",
    "models.extend([('SVC', SVC()),('RandomForest', RandomForestClassifier()),('DT', DecisionTreeClassifier()),\\\n",
    "             ('KNN', KNeighborsClassifier()),('AdaBoost', AdaBoostClassifier()),('LogisticRegression',\\\n",
    "                                                                                 LogisticRegression())])\n",
    "models,results = model_testing(models)\n",
    "\n",
    "#Visualize performance\n",
    "plot_model_results(models,results)"
   ]
  },
  {
   "cell_type": "code",
   "execution_count": null,
   "metadata": {},
   "outputs": [],
   "source": []
  },
  {
   "cell_type": "code",
   "execution_count": null,
   "metadata": {},
   "outputs": [],
   "source": []
  }
 ],
 "metadata": {
  "kernelspec": {
   "display_name": "Python 3",
   "language": "python",
   "name": "python3"
  },
  "language_info": {
   "codemirror_mode": {
    "name": "ipython",
    "version": 3
   },
   "file_extension": ".py",
   "mimetype": "text/x-python",
   "name": "python",
   "nbconvert_exporter": "python",
   "pygments_lexer": "ipython3",
   "version": "3.8.5"
  }
 },
 "nbformat": 4,
 "nbformat_minor": 2
}
